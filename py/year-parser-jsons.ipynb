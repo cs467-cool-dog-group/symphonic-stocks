{
 "cells": [
  {
   "cell_type": "code",
   "execution_count": 2,
   "metadata": {
    "collapsed": true
   },
   "outputs": [],
   "source": [
    "import json\n",
    "import os"
   ]
  },
  {
   "cell_type": "code",
   "execution_count": 3,
   "metadata": {
    "collapsed": true
   },
   "outputs": [],
   "source": [
    "directories = ['indexes', 'sample', 'nasdaq']\n",
    "beginning_path = '../data/jsons/'"
   ]
  },
  {
   "cell_type": "code",
   "execution_count": 18,
   "metadata": {
    "collapsed": false
   },
   "outputs": [],
   "source": [
    "first_years = dict()\n",
    "for d in directories:\n",
    "    for i in os.walk(beginning_path + d):\n",
    "        if len(i[1]) == 0:\n",
    "            ticker = i[0].split('/')[-1]\n",
    "            first_year = int(i[2][0].split('.')[0])\n",
    "            first_years[ticker] = first_year\n",
    "with open('../data/ticker_first_years.json', 'w') as jsonfile:\n",
    "    json.dump(first_years, jsonfile)"
   ]
  },
  {
   "cell_type": "code",
   "execution_count": null,
   "metadata": {
    "collapsed": true
   },
   "outputs": [],
   "source": []
  }
 ],
 "metadata": {
  "kernelspec": {
   "display_name": "Python 3",
   "language": "python",
   "name": "python3"
  },
  "language_info": {
   "codemirror_mode": {
    "name": "ipython",
    "version": 3
   },
   "file_extension": ".py",
   "mimetype": "text/x-python",
   "name": "python",
   "nbconvert_exporter": "python",
   "pygments_lexer": "ipython3",
   "version": "3.5.1"
  }
 },
 "nbformat": 4,
 "nbformat_minor": 0
}
