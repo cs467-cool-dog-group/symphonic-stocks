{
 "cells": [
  {
   "cell_type": "code",
   "execution_count": 1,
   "metadata": {
    "collapsed": true
   },
   "outputs": [],
   "source": [
    "import csv, json"
   ]
  },
  {
   "cell_type": "code",
   "execution_count": 2,
   "metadata": {
    "collapsed": true
   },
   "outputs": [],
   "source": [
    "prices = []\n",
    "with open('../data/indexes/^DJI.csv', 'r') as csvfile:\n",
    "    reader = csv.DictReader(csvfile)\n",
    "    count = 0\n",
    "    for row in reader:\n",
    "        if count < 2000:\n",
    "            prices.append(float(row['High']))\n",
    "            count+=1\n",
    "with open('../data/sample.json', 'w') as jsonfile:\n",
    "    json.dump(prices[::-1], jsonfile)"
   ]
  }
 ],
 "metadata": {
  "kernelspec": {
   "display_name": "Python 3",
   "language": "python",
   "name": "python3"
  },
  "language_info": {
   "codemirror_mode": {
    "name": "ipython",
    "version": 3
   },
   "file_extension": ".py",
   "mimetype": "text/x-python",
   "name": "python",
   "nbconvert_exporter": "python",
   "pygments_lexer": "ipython3",
   "version": "3.5.1"
  }
 },
 "nbformat": 4,
 "nbformat_minor": 0
}
